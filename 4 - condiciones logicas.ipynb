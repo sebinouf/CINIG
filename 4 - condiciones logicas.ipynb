{
 "cells": [
  {
   "cell_type": "markdown",
   "id": "8905f304",
   "metadata": {},
   "source": [
    "## Conditionals and logic\n",
    "\n",
    "All conditionnal test will return a boolean value : True or False\n",
    "\n",
    "The logical operators are: ==, <, >, <=, >=, !=, is, is not"
   ]
  },
  {
   "cell_type": "code",
   "execution_count": 1,
   "id": "9313295c",
   "metadata": {},
   "outputs": [
    {
     "name": "stdout",
     "output_type": "stream",
     "text": [
      "False\n",
      "True\n",
      "True\n",
      "False\n",
      "True\n",
      "False\n",
      "False\n",
      "True\n",
      "PSG is equivalent to bad team? :  False  Of course\n"
     ]
    },
    {
     "name": "stderr",
     "output_type": "stream",
     "text": [
      "<>:7: SyntaxWarning: \"is\" with a literal. Did you mean \"==\"?\n",
      "<>:8: SyntaxWarning: \"is not\" with a literal. Did you mean \"!=\"?\n",
      "<>:11: SyntaxWarning: \"is\" with a literal. Did you mean \"==\"?\n",
      "<>:7: SyntaxWarning: \"is\" with a literal. Did you mean \"==\"?\n",
      "<>:8: SyntaxWarning: \"is not\" with a literal. Did you mean \"!=\"?\n",
      "<>:11: SyntaxWarning: \"is\" with a literal. Did you mean \"==\"?\n",
      "/var/folders/kn/gwny52y97s54b7pt8xt7bq5h0000gn/T/ipykernel_88050/3991370424.py:7: SyntaxWarning: \"is\" with a literal. Did you mean \"==\"?\n",
      "  print((1 is 2))      #equivalent : more interesting for string comparison, see below\n",
      "/var/folders/kn/gwny52y97s54b7pt8xt7bq5h0000gn/T/ipykernel_88050/3991370424.py:8: SyntaxWarning: \"is not\" with a literal. Did you mean \"!=\"?\n",
      "  print((1 is not 2))   #non equivalent : more interesting for string comparison\n",
      "/var/folders/kn/gwny52y97s54b7pt8xt7bq5h0000gn/T/ipykernel_88050/3991370424.py:11: SyntaxWarning: \"is\" with a literal. Did you mean \"==\"?\n",
      "  print(\"PSG is equivalent to bad team? : \", (\"PSG\" is \"Bad team\"), \" Of course\")\n"
     ]
    }
   ],
   "source": [
    "print((1 == 2))    ### equality test\n",
    "print((1 != 2))\n",
    "print((1 < 2))\n",
    "print((1 > 2))\n",
    "print((1 <= 2))\n",
    "print((1 >= 2))\n",
    "print((1 is 2))      #equivalent : more interesting for string comparison, see below\n",
    "print((1 is not 2))   #non equivalent : more interesting for string comparison\n",
    "\n",
    "\n",
    "print(\"PSG is equivalent to bad team? : \", (\"PSG\" is \"Bad team\"), \" Of course\")\n",
    "\n",
    "\n"
   ]
  },
  {
   "cell_type": "markdown",
   "id": "3908f8de",
   "metadata": {},
   "source": [
    "### or and not\n",
    "\n",
    "We can use a combination of logical conditions using \"or\" & \"and\" operators\n",
    "\n",
    "Moreover, a useful operator is \"not\" in order to test the negation.\n",
    "\n",
    "Of course, you will in general compare variables values together or with fixed conditions. "
   ]
  },
  {
   "cell_type": "code",
   "execution_count": 2,
   "id": "1aabe903",
   "metadata": {},
   "outputs": [
    {
     "name": "stdout",
     "output_type": "stream",
     "text": [
      "(2 > 1) and (0 != 13)\n",
      "True\n",
      "not(2 > 1) or not(0 != 13)            not(A or B)\n",
      "False\n",
      "not((2 > 1) and (0 != 13))          not(A or B) <=> not A and not B  \n",
      "False\n",
      "not(1 is 2)\n",
      "True\n"
     ]
    },
    {
     "name": "stderr",
     "output_type": "stream",
     "text": [
      "<>:10: SyntaxWarning: \"is not\" with a literal. Did you mean \"!=\"?\n",
      "<>:10: SyntaxWarning: \"is not\" with a literal. Did you mean \"!=\"?\n",
      "/var/folders/kn/gwny52y97s54b7pt8xt7bq5h0000gn/T/ipykernel_88050/2377757287.py:10: SyntaxWarning: \"is not\" with a literal. Did you mean \"!=\"?\n",
      "  print(not(1 is 2) )      #\"is not\" is actually redondant because equivalent to the negation of \"is\"\n"
     ]
    }
   ],
   "source": [
    "print(\"(2 > 1) and (0 != 13)\")\n",
    "print((2 > 1) and (0 != 13))\n",
    "\n",
    "print(\"not(2 > 1) or not(0 != 13)            not(A or B)\")\n",
    "print((  not(2 > 1) or not(0 != 13) )) \n",
    "print(\"not((2 > 1) and (0 != 13))          not(A or B) <=> not A and not B  \")\n",
    "print(not((2 > 1) and (0 != 13)))\n",
    "\n",
    "print(\"not(1 is 2)\")\n",
    "print(not(1 is 2) )      #\"is not\" is actually redondant because equivalent to the negation of \"is\""
   ]
  },
  {
   "cell_type": "code",
   "execution_count": null,
   "id": "b337f461",
   "metadata": {},
   "outputs": [],
   "source": []
  }
 ],
 "metadata": {
  "kernelspec": {
   "display_name": "Python 3 (ipykernel)",
   "language": "python",
   "name": "python3"
  },
  "language_info": {
   "codemirror_mode": {
    "name": "ipython",
    "version": 3
   },
   "file_extension": ".py",
   "mimetype": "text/x-python",
   "name": "python",
   "nbconvert_exporter": "python",
   "pygments_lexer": "ipython3",
   "version": "3.10.7"
  }
 },
 "nbformat": 4,
 "nbformat_minor": 5
}
