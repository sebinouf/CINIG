{
 "cells": [
  {
   "cell_type": "markdown",
   "id": "4c21f013",
   "metadata": {},
   "source": [
    "## If , else\n",
    "\n",
    "These test are important to now do something or not. A very important case, even if simple, is to test if you are divided by a value different of 0.\n",
    "\n",
    "The way to use \"if\" is like : \"if condition : \"\n",
    "The condition can be a combination of conditions and/or a contraposition. The \"if\" will just check the value of the result. If it is \"True\" then it will continue to the instructions. If it is \"False\" he will execute the instructions following \"else\" if exist. If there is not \"else\", it will just do nothing.\n",
    "\n",
    "\n"
   ]
  },
  {
   "cell_type": "code",
   "execution_count": 1,
   "id": "a1a96772",
   "metadata": {},
   "outputs": [
    {
     "name": "stdout",
     "output_type": "stream",
     "text": [
      "the codition a<b was False and execute all the in the indentation below else\n",
      "5.0\n",
      "the condition a<b was False and execute all the in the indentation below if\n",
      "6.0\n",
      "9.0\n"
     ]
    }
   ],
   "source": [
    "a = 3.\n",
    "b = 2.\n",
    "\n",
    "if a < b:\n",
    "    print(\"the codition a<b was true and execute all the in the indentation below if\")\n",
    "    print(a*b)\n",
    "    print(a**2)\n",
    "else:\n",
    "    print(\"the codition a<b was False and execute all the in the indentation below else\")\n",
    "    print(a+b)\n",
    "\n",
    "    \n",
    "    \n",
    "\n",
    "\n",
    "if not(a < b):    ####I had the contraposition\n",
    "    print(\"the condition a<b was False and execute all the in the indentation below if\")\n",
    "    print(a*b)\n",
    "    print(a**2)\n",
    "else:\n",
    "    print(\"the condition a<b was True and execute all the in the indentation below else\")\n",
    "    print(a+b)\n",
    "\n",
    "\n"
   ]
  },
  {
   "cell_type": "code",
   "execution_count": 2,
   "id": "ac67ba10",
   "metadata": {},
   "outputs": [
    {
     "name": "stdout",
     "output_type": "stream",
     "text": [
      "1.8823529411764706\n"
     ]
    }
   ],
   "source": [
    "a = 0.\n",
    "b = 17.\n",
    "c = 32.\n",
    "\n",
    "if (a !=0) : \n",
    "    d = c/a\n",
    "else:\n",
    "    d = c/b\n",
    "    \n",
    "print(d)"
   ]
  },
  {
   "cell_type": "code",
   "execution_count": null,
   "id": "78d5439d",
   "metadata": {},
   "outputs": [],
   "source": []
  }
 ],
 "metadata": {
  "kernelspec": {
   "display_name": "Python 3 (ipykernel)",
   "language": "python",
   "name": "python3"
  },
  "language_info": {
   "codemirror_mode": {
    "name": "ipython",
    "version": 3
   },
   "file_extension": ".py",
   "mimetype": "text/x-python",
   "name": "python",
   "nbconvert_exporter": "python",
   "pygments_lexer": "ipython3",
   "version": "3.10.7"
  }
 },
 "nbformat": 4,
 "nbformat_minor": 5
}
