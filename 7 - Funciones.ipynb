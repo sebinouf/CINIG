{
 "cells": [
  {
   "cell_type": "markdown",
   "metadata": {},
   "source": [
    "# Generalidades\n",
    "**Author : Comision Interna para la Igualidad de Genero del ICF-UNAM**\n",
    "\n",
    "**contexto : Curso de introduccion de programacion hacia las mujeres**\n",
    "\n",
    "Este notebook tiene como objetivo explicar el funcionamiento de las funciones.\n",
    "Un programa puede rapidamente crecer a lo largo del tiempo de su desarrollo. Por esta razon se requiere estructurar un programa.\n"
   ]
  },
  {
   "cell_type": "markdown",
   "metadata": {},
   "source": [
    "Definicion de una funcion, la cual se llama **mi_funcion**, la cual recibe 1 argumento que llamo **mi_variable**, la escribe y la regresa como resultado."
   ]
  },
  {
   "cell_type": "code",
   "execution_count": 5,
   "metadata": {},
   "outputs": [],
   "source": [
    "def mi_funcion(mi_variable=\"valor_por_default\"):\n",
    "    print(mi_variable)\n",
    "    return(mi_variable)"
   ]
  },
  {
   "cell_type": "markdown",
   "metadata": {},
   "source": [
    "Vamos a llamar nuestra funcion sin especificar el valor de **mi_variable**. En este caso, el valor que espicifique directamente: \"valor_por_default\". En este caso, use una cadena de caracteres para que se entiende su sentido, pero puede ser del tipo que quiere."
   ]
  },
  {
   "cell_type": "code",
   "execution_count": 4,
   "metadata": {},
   "outputs": [
    {
     "name": "stdout",
     "output_type": "stream",
     "text": [
      "valor_por_default\n"
     ]
    }
   ],
   "source": [
    "resultado = mi_funcion()"
   ]
  },
  {
   "cell_type": "markdown",
   "metadata": {},
   "source": [
    "Vamos a escribir una funcion trivial par que podemos interpretar el resultado simplamente. Podemos definir la funcion multplicacion la toma en entrada de 2 a 5 valores y regresa la multiplicacion. Dado que el elemento neutro de la multiplicacion, podemos predefinir volres 1 por los elementos no usados."
   ]
  },
  {
   "cell_type": "code",
   "execution_count": 1,
   "metadata": {},
   "outputs": [],
   "source": [
    "def multiplicacion(a=1.,b=1.,c=1.,d=1,e=1.):\n",
    "    return(a*b*c*d*e)"
   ]
  },
  {
   "cell_type": "code",
   "execution_count": 2,
   "metadata": {},
   "outputs": [
    {
     "data": {
      "text/plain": [
       "24.0"
      ]
     },
     "execution_count": 2,
     "metadata": {},
     "output_type": "execute_result"
    }
   ],
   "source": [
    "multiplicacion(2,3,4)"
   ]
  },
  {
   "cell_type": "markdown",
   "metadata": {},
   "source": [
    "A caso que quieremos definir una multiplicacion entre todo una lista/arreglo de numero, podemos hacerlo de manera mas inteligente:"
   ]
  },
  {
   "cell_type": "code",
   "execution_count": 8,
   "metadata": {},
   "outputs": [],
   "source": [
    "def multiplicacion_list(my_list):\n",
    "    cpt = 1.\n",
    "    for ii in range(len(my_list)): \n",
    "        cpt = cpt * my_list[ii]\n",
    "    return(cpt)"
   ]
  },
  {
   "cell_type": "code",
   "execution_count": 10,
   "metadata": {},
   "outputs": [
    {
     "name": "stdout",
     "output_type": "stream",
     "text": [
      "3628800.0\n"
     ]
    }
   ],
   "source": [
    "my_list = [2,3,4,5,6,7,8,9,10]\n",
    "print(multiplicacion_list(my_list))"
   ]
  },
  {
   "cell_type": "markdown",
   "metadata": {},
   "source": [
    "Una funcion esta en general mucho mas compleja, al contrario es mejor directamente escribir la linea mientras definir une funcion. Sin embargo, puede ser tambien util definir una funcion simple cuando se usa de manera repetida dentro de su codigo. Imaginamos que tenemos que trabajar con texto. En general se lee a dentro de una lista de cadena de caracteres como lo siguiente:"
   ]
  },
  {
   "cell_type": "code",
   "execution_count": 34,
   "metadata": {},
   "outputs": [],
   "source": [
    "list_text=['primera frase','secunda frase', 'tercera frase', 'cuarta frase','quinta frase' ]"
   ]
  },
  {
   "cell_type": "markdown",
   "metadata": {},
   "source": [
    "Puedo imprimir todo sus elementos:"
   ]
  },
  {
   "cell_type": "code",
   "execution_count": 35,
   "metadata": {},
   "outputs": [
    {
     "name": "stdout",
     "output_type": "stream",
     "text": [
      "primera frase\n",
      "secunda frase\n",
      "tercera frase\n",
      "cuarta frase\n",
      "quinta frase\n"
     ]
    }
   ],
   "source": [
    "for text in list_text: print(text)"
   ]
  },
  {
   "cell_type": "markdown",
   "metadata": {},
   "source": [
    "Si quiero hacer un cambio sistematico, puede ser utili definir una pequña funcion. Por ejmplo, me gustaria que estas frases empiezan con una mayuscula y terminan con un punto."
   ]
  },
  {
   "cell_type": "code",
   "execution_count": 50,
   "metadata": {},
   "outputs": [],
   "source": [
    "def cambiar_text(list_text):\n",
    "    for ii in range(len(list_text)):\n",
    "        ## cargar cada frase\n",
    "        texto_mod = list_text[ii]\n",
    "        ## cambiar la primera letra por su caso mayusculo\n",
    "        texto_mod = texto_mod.replace(texto_mod[0], str.upper(texto_mod[0]), 1 )\n",
    "        ## agregar un punto al fin\n",
    "        texto_mod = texto_mod+'.'\n",
    "        ## remplazar el texto original por el texto modificado en la lista\n",
    "        list_text[ii] = texto_mod\n",
    "    return(list_text)"
   ]
  },
  {
   "cell_type": "code",
   "execution_count": 51,
   "metadata": {},
   "outputs": [],
   "source": [
    "list_text_mod = cambiar_text(list_text)"
   ]
  },
  {
   "cell_type": "code",
   "execution_count": 52,
   "metadata": {},
   "outputs": [
    {
     "name": "stdout",
     "output_type": "stream",
     "text": [
      "['Primera frase...', 'Secunda frase...', 'Tercera frase...', 'Cuarta frase...', 'Quinta frase...']\n"
     ]
    }
   ],
   "source": [
    "print(list_text_mod)"
   ]
  },
  {
   "cell_type": "markdown",
   "metadata": {},
   "source": [
    "### Modificacion directa o copia de los valores\n",
    "\n",
    "Es importante saber que depiendando del lenguaje de programacion, una funcion tiende a hacer copias de las variables o a usar directamente las variables. La distincion es muy importante porque si cambias directamente los valores de tus variables, cambian a dentro de todo el codigo. Es el caso de Python ! Por ejamplo, les invito a imprimir de nuevo *list_text* para ver:"
   ]
  },
  {
   "cell_type": "code",
   "execution_count": 54,
   "metadata": {},
   "outputs": [
    {
     "name": "stdout",
     "output_type": "stream",
     "text": [
      "['Primera frase...', 'Secunda frase...', 'Tercera frase...', 'Cuarta frase...', 'Quinta frase...']\n"
     ]
    }
   ],
   "source": [
    "print(list_text)"
   ]
  },
  {
   "cell_type": "code",
   "execution_count": null,
   "metadata": {},
   "outputs": [],
   "source": []
  }
 ],
 "metadata": {
  "kernelspec": {
   "display_name": "Python 3",
   "language": "python",
   "name": "python3"
  },
  "language_info": {
   "codemirror_mode": {
    "name": "ipython",
    "version": 3
   },
   "file_extension": ".py",
   "mimetype": "text/x-python",
   "name": "python",
   "nbconvert_exporter": "python",
   "pygments_lexer": "ipython3",
   "version": "3.8.5"
  }
 },
 "nbformat": 4,
 "nbformat_minor": 5
}
