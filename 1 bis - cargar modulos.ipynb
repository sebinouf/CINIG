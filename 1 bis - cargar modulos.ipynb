{
 "cells": [
  {
   "cell_type": "markdown",
   "id": "1258bdfa",
   "metadata": {},
   "source": [
    "### Modulos\n",
    "\n",
    "Los modulos o paqueteria estan muy importante por los lenguajes de programacion, en particular para Python.\n",
    "\n",
    "Un gran parte de las funcionalidades de base de Python estan dentro de paqueterias muy conocidas las cuales necesitan cargar.\n",
    "\n",
    "Hay en particular varias paqueterias como **numpy** o **matplotlib** y mas reciente **pandas** que permiten hacer muchas cosas que necesitan.\n",
    "\n",
    "**numpy** esta muy interesante par hacer la mayoria de los calculos\n",
    "**matplotlib** esta muy importante para hacer todo los plots, las figuras\n",
    "**pandas** esta muy util para hacer analisis de datos\n",
    "\n",
    "\n",
    "Tambien hay otras paqueterias muy conocidas ahora para hacer Machine Learning, como **tensroflow**, **keras**...."
   ]
  },
  {
   "cell_type": "markdown",
   "id": "1b5e5690",
   "metadata": {},
   "source": [
    "### Cargar una paqueteria instalada\n",
    "\n",
    "Vamos a usar **numpy** como ejemplo. Se requiere usar la palabra protegida _import_"
   ]
  },
  {
   "cell_type": "code",
   "execution_count": 1,
   "id": "c125c6fb",
   "metadata": {},
   "outputs": [],
   "source": [
    "import numpy"
   ]
  },
  {
   "cell_type": "markdown",
   "id": "7e06792c",
   "metadata": {},
   "source": [
    "Eso permite importar todo lo que hay dentro de la paqueteria numpy. Por ejemplo, puedo usar la funcion de generacion de un arreglo (lo que veremos en un notebook dedicado) la cual se llama _zeros_"
   ]
  },
  {
   "cell_type": "code",
   "execution_count": 2,
   "id": "5176f3ce",
   "metadata": {},
   "outputs": [
    {
     "data": {
      "text/plain": [
       "array([0., 0., 0., 0., 0.])"
      ]
     },
     "execution_count": 2,
     "metadata": {},
     "output_type": "execute_result"
    }
   ],
   "source": [
    "numpy.zeros(5)"
   ]
  },
  {
   "cell_type": "markdown",
   "id": "356ac0eb",
   "metadata": {},
   "source": [
    "Se puede tambien cargar una paqueteria dentro de un objeto. Por ejemplo aqui, vamos a cargar **numpy** dentro de un objeto cual llamaremos _np_ (lo pueden llamar como quieren). Se puede usar numpy usando el nombre _np_"
   ]
  },
  {
   "cell_type": "code",
   "execution_count": 3,
   "id": "5269c2eb",
   "metadata": {},
   "outputs": [
    {
     "data": {
      "text/plain": [
       "array([0., 0., 0., 0., 0., 0.])"
      ]
     },
     "execution_count": 3,
     "metadata": {},
     "output_type": "execute_result"
    }
   ],
   "source": [
    "import numpy as np\n",
    "\n",
    "np.zeros(6)"
   ]
  },
  {
   "cell_type": "markdown",
   "id": "47ed7034",
   "metadata": {},
   "source": [
    "### Cargar unicamente la funcion _zeros_ de numpy\n",
    "\n",
    "Es posible de cargar solamente una parte de una paqueteria. Existen paqueterias las cuales suelen ser muy pesadas. Asi se puede descargar unicamente la parte la cual nos interesa.\n",
    "\n",
    "Por eso se usa la palabra protegida _from_"
   ]
  },
  {
   "cell_type": "code",
   "execution_count": 4,
   "id": "cae585c0",
   "metadata": {},
   "outputs": [],
   "source": [
    "from numpy import zeros\n"
   ]
  },
  {
   "cell_type": "code",
   "execution_count": 5,
   "id": "3cfd0539",
   "metadata": {},
   "outputs": [
    {
     "data": {
      "text/plain": [
       "array([0., 0., 0., 0., 0.])"
      ]
     },
     "execution_count": 5,
     "metadata": {},
     "output_type": "execute_result"
    }
   ],
   "source": [
    "zeros(5)"
   ]
  },
  {
   "cell_type": "code",
   "execution_count": null,
   "id": "bf8d2bff",
   "metadata": {},
   "outputs": [],
   "source": []
  }
 ],
 "metadata": {
  "kernelspec": {
   "display_name": "Python 3 (ipykernel)",
   "language": "python",
   "name": "python3"
  },
  "language_info": {
   "codemirror_mode": {
    "name": "ipython",
    "version": 3
   },
   "file_extension": ".py",
   "mimetype": "text/x-python",
   "name": "python",
   "nbconvert_exporter": "python",
   "pygments_lexer": "ipython3",
   "version": "3.10.7"
  }
 },
 "nbformat": 4,
 "nbformat_minor": 5
}
