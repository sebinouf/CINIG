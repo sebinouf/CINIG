{
 "cells": [
  {
   "cell_type": "markdown",
   "id": "74a327bd",
   "metadata": {},
   "source": [
    "# Generalidades\n",
    "**Author : Comision Interna para la Igualidad de Genero del ICF-UNAM**\n",
    "\n",
    "**contexto : Curso de introduccion de programacion hacia las mujeres**\n",
    "\n",
    "Este \"notebook\" es para aprender el uso de los lazos \"for\" y \"while\" en Python (con nociones mas generales sobre el tema). \n",
    "\n"
   ]
  },
  {
   "cell_type": "markdown",
   "id": "34e35cec",
   "metadata": {},
   "source": [
    "## Loops (Lazos) : For y While\n",
    "\n",
    "Hay 2 tipos de Lazos en python, y dans la gran mayoria de los lenguajes de programación : \n",
    "\n",
    "    - \"for\" : lo cual significa \"para\". Es el tipo de lazo que se usa cuando se sabe perfectamente desde que valor y hasta que valor quieremos iterar un proceso. Por ejemplo, si quiero imprimir los 10 primeros valores de una lista o de un arreglo. \n",
    "    - \"while\" : lo cual significa \"hasta que\". Se usa en general cuando se requiere cumplir una condicion. Por ejemplo, para leer un archivo de texto, vamos a leer linea por linea hasta que se termina el texto.\n",
    "    \n",
    "for ii in range_of_value:\n",
    "\n",
    "    intruction1\n",
    "    instruction2\n",
    "    .\n",
    "    .\n",
    "    .\n",
    "    \n",
    "while (condition) : \n",
    "\n",
    "    intruction1\n",
    "    instruction2\n",
    "    .\n",
    "    .\n",
    "    .\n",
    "    \n",
    "       \n",
    "\n",
    "\n",
    "\n"
   ]
  },
  {
   "cell_type": "markdown",
   "id": "bd4c9d67",
   "metadata": {},
   "source": [
    "### Ejemplo de uso concretos simples:\n",
    "\n",
    "### For: (uso mas general : iteracion de valores )\n",
    "\n",
    "for ii in range(10):\n",
    "    print(ii)\n",
    "\n",
    "\n"
   ]
  },
  {
   "cell_type": "code",
   "execution_count": 1,
   "id": "dfca50a4",
   "metadata": {},
   "outputs": [],
   "source": [
    "#### Escribes aqui el codigo\n"
   ]
  },
  {
   "cell_type": "markdown",
   "id": "aef1c0a3",
   "metadata": {},
   "source": [
    "De la misma forma podemos obtener el mismo resultado usando una loop tipo while\n"
   ]
  },
  {
   "cell_type": "code",
   "execution_count": 2,
   "id": "9c482de4",
   "metadata": {},
   "outputs": [
    {
     "name": "stdout",
     "output_type": "stream",
     "text": [
      "0\n",
      "1\n",
      "2\n",
      "3\n",
      "4\n",
      "5\n",
      "6\n",
      "7\n",
      "8\n",
      "9\n"
     ]
    }
   ],
   "source": [
    "fin = 10\n",
    "ii = 0\n",
    "while(ii < fin):\n",
    "    print(ii)\n",
    "    ii = ii+1"
   ]
  },
  {
   "cell_type": "markdown",
   "id": "b6fbce76",
   "metadata": {},
   "source": [
    "Sin embargo, podemos ver que el tipo **for** es mucho mas adaptado a este tipo de problematica que el tipo **while**. Ahora venos un ejemplo donde el uso de de **while** es bien adaptado.\n",
    "\n",
    "Si quieremos imprimir los N primeros enteros cuales son divisbles por 3:"
   ]
  },
  {
   "cell_type": "code",
   "execution_count": 7,
   "id": "24ba3e80",
   "metadata": {},
   "outputs": [
    {
     "name": "stdout",
     "output_type": "stream",
     "text": [
      "3\n",
      "6\n",
      "9\n",
      "12\n",
      "15\n",
      "18\n",
      "21\n"
     ]
    }
   ],
   "source": [
    "N = 7 ### Numero de enteros divisble por 3 que quiero\n",
    "ii = 1\n",
    "cpt = 0 ### vamos a incrementar este variable cada ves que \n",
    "        ### encontramos un entero divisble por 3 y terminar el trabajo cuando vale N\n",
    "while(cpt <N):\n",
    "    if ii % 3 == 0:    #### a % b da el resto de la division de Euclid entre. a y b. Si es 0 es que a es divisible por b\n",
    "        print(ii)\n",
    "        cpt = cpt+1\n",
    "    ii = ii+1"
   ]
  },
  {
   "cell_type": "markdown",
   "id": "dfced326",
   "metadata": {},
   "source": [
    "Pueden facilmente pedir los 15 primeros enteros divisble por 3 modificando unicamente el valor de N. Intentan hacer el mismo codigo, pero usando un loop **for**, tendran que pensar en un numero de iteracion que realizar. Existen muchas tareas donde es imposible conocer el numeor de iteracion miimal que realizar, entonces el metodo **while** es mucho mas adecuado.\n",
    "\n",
    "En particular, la lectura de archivos o el trabajo sobre el analisis de textos requieren uchas veces el uso del metodo **while**."
   ]
  },
  {
   "cell_type": "markdown",
   "id": "0e407be3",
   "metadata": {},
   "source": [
    "### Uso de la loop for para recoger los valores dentro una lista o un arreglo"
   ]
  },
  {
   "cell_type": "code",
   "execution_count": 12,
   "id": "b5d79322",
   "metadata": {},
   "outputs": [],
   "source": [
    "import numpy as np\n",
    "mi_arreglo = np.array([0,2,3,4,5,6,7])\n",
    "\n",
    "mi_lista = ['azul', 'red', 12.3, 3]\n",
    "\n"
   ]
  },
  {
   "cell_type": "markdown",
   "id": "057c7fb8",
   "metadata": {},
   "source": [
    "Vamos a usar el metodo **len()** cual nos da el numero de elemento de una lista o de un arreglo:"
   ]
  },
  {
   "cell_type": "code",
   "execution_count": 13,
   "id": "527ef744",
   "metadata": {},
   "outputs": [
    {
     "name": "stdout",
     "output_type": "stream",
     "text": [
      "4\n",
      "7\n"
     ]
    }
   ],
   "source": [
    "print(len(mi_lista))\n",
    "print(len(mi_arreglo))"
   ]
  },
  {
   "cell_type": "code",
   "execution_count": 14,
   "id": "5941f807",
   "metadata": {},
   "outputs": [
    {
     "name": "stdout",
     "output_type": "stream",
     "text": [
      "azul\n",
      "red\n",
      "12.3\n",
      "3\n"
     ]
    }
   ],
   "source": [
    "for ii in range(len(mi_lista)):\n",
    "    print(mi_lista[ii])\n",
    "    "
   ]
  },
  {
   "cell_type": "code",
   "execution_count": 15,
   "id": "f4945c25",
   "metadata": {},
   "outputs": [
    {
     "name": "stdout",
     "output_type": "stream",
     "text": [
      "0\n",
      "2\n",
      "3\n",
      "4\n",
      "5\n",
      "6\n",
      "7\n"
     ]
    }
   ],
   "source": [
    "for ii in range(len(mi_arreglo)):\n",
    "    print(mi_arreglo[ii])"
   ]
  },
  {
   "cell_type": "markdown",
   "id": "482f50bd",
   "metadata": {},
   "source": [
    "### existe una manera mas propia de Python para usar el loop **for** con los arreglos y listas. Podemos pedir que \"ii\" vale los elementos del arrelglo sin pasar por el indice:"
   ]
  },
  {
   "cell_type": "code",
   "execution_count": 16,
   "id": "633d293b",
   "metadata": {},
   "outputs": [
    {
     "name": "stdout",
     "output_type": "stream",
     "text": [
      "azul\n",
      "red\n",
      "12.3\n",
      "3\n"
     ]
    }
   ],
   "source": [
    "for ii in mi_lista:\n",
    "    print(ii)"
   ]
  },
  {
   "cell_type": "code",
   "execution_count": 18,
   "id": "a9b805fe",
   "metadata": {},
   "outputs": [
    {
     "name": "stdout",
     "output_type": "stream",
     "text": [
      "0\n",
      "2\n",
      "3\n",
      "4\n",
      "5\n",
      "6\n",
      "7\n"
     ]
    }
   ],
   "source": [
    "for ii in mi_arreglo:\n",
    "    print(ii)"
   ]
  },
  {
   "cell_type": "code",
   "execution_count": null,
   "id": "8bd97cb9",
   "metadata": {},
   "outputs": [],
   "source": []
  }
 ],
 "metadata": {
  "kernelspec": {
   "display_name": "Python 3 (ipykernel)",
   "language": "python",
   "name": "python3"
  },
  "language_info": {
   "codemirror_mode": {
    "name": "ipython",
    "version": 3
   },
   "file_extension": ".py",
   "mimetype": "text/x-python",
   "name": "python",
   "nbconvert_exporter": "python",
   "pygments_lexer": "ipython3",
   "version": "3.10.7"
  }
 },
 "nbformat": 4,
 "nbformat_minor": 5
}
